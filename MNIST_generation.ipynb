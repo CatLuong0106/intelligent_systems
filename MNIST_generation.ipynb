{
 "cells": [
  {
   "cell_type": "markdown",
   "metadata": {},
   "source": [
    "# MNIST Generation"
   ]
  },
  {
   "cell_type": "markdown",
   "metadata": {},
   "source": [
    "Homework 4: Feed-foward Neural Network and Autoencoder Network Modification and Comparison <br>\n",
    "Due Date: 11/29/22 <br>\n",
    "Creator: Cat Luong (luongcn@mail.uc.edu)"
   ]
  },
  {
   "cell_type": "code",
   "execution_count": 1,
   "metadata": {},
   "outputs": [],
   "source": [
    "import numpy as np\n",
    "import random\n",
    "import math"
   ]
  },
  {
   "cell_type": "code",
   "execution_count": 2,
   "metadata": {},
   "outputs": [],
   "source": [
    "train_imgs = np.loadtxt('MNISTnumImages5000_balanced.txt', dtype=float)\n",
    "train_labels = np.loadtxt('MNISTnumLabels5000_balanced.txt', dtype=float)"
   ]
  },
  {
   "cell_type": "code",
   "execution_count": 3,
   "metadata": {},
   "outputs": [],
   "source": [
    "# Function to generate the files of 0s, 1s, 7s, 9s as per the requirement in the problem statement\n",
    "def ds_gen(number):\n",
    "    data = \"\"\n",
    "    new_file = open(str(number) + '.txt', 'w') \n",
    "    for j in range(len(train_labels)):\n",
    "        if int(train_labels[j]) == number:\n",
    "            temp_lst_j = list(train_imgs[j])\n",
    "            temp_lst_j.append(float(number))\n",
    "            new_file.write(\"\\t\".join(str(item) for item in temp_lst_j))\n",
    "            new_file.write(\"\\n\")\n",
    "    new_file.close()\n",
    "\n",
    "reg_imgs = [0, 1, 2, 3, 4, 5, 6, 7, 8, 9] #List of files need to be perfected\n",
    "for i in reg_imgs:\n",
    "    ds_gen(i)"
   ]
  },
  {
   "cell_type": "code",
   "execution_count": 4,
   "metadata": {},
   "outputs": [],
   "source": [
    "# Load files of 0s and 1s\n",
    "file_0 = np.loadtxt('0.txt', dtype=float)\n",
    "file_1 = np.loadtxt('1.txt', dtype=float)\n",
    "file_2 = np.loadtxt('2.txt', dtype=float)\n",
    "file_3 = np.loadtxt('3.txt', dtype=float)\n",
    "file_4 = np.loadtxt('4.txt', dtype=float)\n",
    "file_5 = np.loadtxt('5.txt', dtype=float)\n",
    "file_6 = np.loadtxt('6.txt', dtype=float)\n",
    "file_7 = np.loadtxt('7.txt', dtype=float)\n",
    "file_8 = np.loadtxt('8.txt', dtype=float)\n",
    "file_9 = np.loadtxt('9.txt', dtype=float)"
   ]
  },
  {
   "cell_type": "code",
   "execution_count": 6,
   "metadata": {},
   "outputs": [],
   "source": [
    "# Generate training set\n",
    "files = ['0.txt', '1.txt', '2.txt', '3.txt', '4.txt', '5.txt', '6.txt', '7.txt', '8.txt', '9.txt']\n",
    "training_set = open(\"training_set.txt\",\"w\")\n",
    "train_total = []\n",
    "for f in files: \n",
    "    temp_file = np.loadtxt(str(f), dtype=float)\n",
    "    train_total += list(temp_file)[0:400]\n",
    "for i in range(len(train_total)):\n",
    "    temp_lst_i = list(train_total[i])\n",
    "    training_set.write(\"\\t\".join(str(t) for t in temp_lst_i))\n",
    "    training_set.write(\"\\n\")\n",
    "training_set.close()"
   ]
  },
  {
   "cell_type": "code",
   "execution_count": 7,
   "metadata": {},
   "outputs": [],
   "source": [
    "# Generate test set\n",
    "test_set = open(\"test_set.txt\",\"w\")\n",
    "test_total = []\n",
    "for f in files: \n",
    "    temp_file = np.loadtxt(str(f), dtype=float)\n",
    "    test_total += list(temp_file)[400:500]\n",
    "for i in range(len(test_total)):\n",
    "    temp_lst_i = list(test_total[i])\n",
    "    test_set.write(\"\\t\".join(str(t) for t in temp_lst_i))\n",
    "    test_set.write(\"\\n\")\n",
    "test_set.close()"
   ]
  }
 ],
 "metadata": {
  "kernelspec": {
   "display_name": "Python 3.9.0 64-bit",
   "language": "python",
   "name": "python3"
  },
  "language_info": {
   "codemirror_mode": {
    "name": "ipython",
    "version": 3
   },
   "file_extension": ".py",
   "mimetype": "text/x-python",
   "name": "python",
   "nbconvert_exporter": "python",
   "pygments_lexer": "ipython3",
   "version": "3.9.0"
  },
  "orig_nbformat": 4,
  "vscode": {
   "interpreter": {
    "hash": "0d591c6e422414675974e227c13f5382000c440fedd3c5006ef2be5d887f0ba7"
   }
  }
 },
 "nbformat": 4,
 "nbformat_minor": 2
}
